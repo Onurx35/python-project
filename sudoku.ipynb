{
  "nbformat": 4,
  "nbformat_minor": 0,
  "metadata": {
    "colab": {
      "name": "sudoku.ipynb",
      "provenance": [],
      "authorship_tag": "ABX9TyMQ9TNk9OudkEGI4cGpf/cq",
      "include_colab_link": true
    },
    "kernelspec": {
      "name": "python3",
      "display_name": "Python 3"
    },
    "language_info": {
      "name": "python"
    }
  },
  "cells": [
    {
      "cell_type": "markdown",
      "metadata": {
        "id": "view-in-github",
        "colab_type": "text"
      },
      "source": [
        "<a href=\"https://colab.research.google.com/github/Onurx35/python-project/blob/main/sudoku.ipynb\" target=\"_parent\"><img src=\"https://colab.research.google.com/assets/colab-badge.svg\" alt=\"Open In Colab\"/></a>"
      ]
    },
    {
      "cell_type": "code",
      "metadata": {
        "colab": {
          "base_uri": "https://localhost:8080/"
        },
        "id": "xjzl1egaqY_8",
        "outputId": "3a21ce36-dff8-47eb-acad-426e92035670"
      },
      "source": [
        "sudoku = [\n",
        "    [0, 0, 0, 0, 6, 4, 0, 0, 0],\n",
        "    [7, 0, 0, 0, 0, 0, 3, 9, 0],\n",
        "    [8, 0, 0, 0, 0, 0, 0, 0, 0],\n",
        "    [0, 0, 0, 5, 0, 2, 0, 6, 0],\n",
        "    [0, 8, 0, 4, 0, 0, 0, 0, 0],\n",
        "    [3, 5, 0, 6, 0, 0, 0, 7, 0],\n",
        "    [0, 0, 2, 0, 0, 0, 1, 0, 3],\n",
        "    [0, 0, 1, 0, 5, 9, 0, 0, 0],\n",
        "    [0, 0, 0, 0, 0, 0, 7, 0, 0]\n",
        "]\n",
        "\n",
        "count = 0\n",
        "\n",
        "print(\"------------------------------\")\n",
        "for i in sudoku:\n",
        "  for j in range(len(i)):\n",
        "    print(i[j], \" \", end=\"\")\n",
        "    if (j + 1) == 9 :\n",
        "      print()\n",
        "      count += 1\n",
        "      if count % 3 == 0 and count != 0 :\n",
        "        print(\"-----------------------------\")\n",
        "    if (j + 1) % 3 == 0 and j != 0 and j!= 8:\n",
        "      print(\"| \", end = \"\")"
      ],
      "execution_count": 12,
      "outputs": [
        {
          "output_type": "stream",
          "text": [
            "------------------------------\n",
            "0  0  0  | 0  6  4  | 0  0  0  \n",
            "7  0  0  | 0  0  0  | 3  9  0  \n",
            "8  0  0  | 0  0  0  | 0  0  0  \n",
            "-----------------------------\n",
            "0  0  0  | 5  0  2  | 0  6  0  \n",
            "0  8  0  | 4  0  0  | 0  0  0  \n",
            "3  5  0  | 6  0  0  | 0  7  0  \n",
            "-----------------------------\n",
            "0  0  2  | 0  0  0  | 1  0  3  \n",
            "0  0  1  | 0  5  9  | 0  0  0  \n",
            "0  0  0  | 0  0  0  | 7  0  0  \n",
            "-----------------------------\n"
          ],
          "name": "stdout"
        }
      ]
    }
  ]
}