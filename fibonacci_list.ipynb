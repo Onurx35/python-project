{
  "nbformat": 4,
  "nbformat_minor": 0,
  "metadata": {
    "colab": {
      "name": "fibonacci_list.ipynb",
      "provenance": [],
      "authorship_tag": "ABX9TyNd2lZrZW8BFJBpISWxz8BS",
      "include_colab_link": true
    },
    "kernelspec": {
      "name": "python3",
      "display_name": "Python 3"
    },
    "language_info": {
      "name": "python"
    }
  },
  "cells": [
    {
      "cell_type": "markdown",
      "metadata": {
        "id": "view-in-github",
        "colab_type": "text"
      },
      "source": [
        "<a href=\"https://colab.research.google.com/github/Onurx35/python-project/blob/main/fibonacci_list.ipynb\" target=\"_parent\"><img src=\"https://colab.research.google.com/assets/colab-badge.svg\" alt=\"Open In Colab\"/></a>"
      ]
    },
    {
      "cell_type": "code",
      "metadata": {
        "colab": {
          "base_uri": "https://localhost:8080/"
        },
        "id": "5i-nvkOdjkb2",
        "outputId": "4dabd682-6862-488d-edfa-c1d7feae210c"
      },
      "source": [
        "fibo = [1,1]\n",
        "for i in range(1,15):\n",
        "  \n",
        "  if max(fibo) < 55 :\n",
        "  \n",
        "    x = fibo[-2] + fibo[-1]\n",
        "    fibo.append(x)\n",
        "    \n",
        "  else:\n",
        "    break\n",
        "\n",
        "print(fibo)"
      ],
      "execution_count": 10,
      "outputs": [
        {
          "output_type": "stream",
          "text": [
            "[1, 1, 2, 3, 5, 8, 13, 21, 34, 55]\n"
          ],
          "name": "stdout"
        }
      ]
    },
    {
      "cell_type": "code",
      "metadata": {
        "colab": {
          "base_uri": "https://localhost:8080/"
        },
        "id": "Q20SvY0vlefX",
        "outputId": "4e140fe6-f1aa-4a9a-ad10-3b9c9b48cccd"
      },
      "source": [
        "fibo_num=[]\n",
        "a, b= 1, 1\n",
        "while a <= 55:\n",
        "  fibo_num.append(a)\n",
        "  a , b = b, a + b\n",
        "print(fibo_num)\n",
        "\n"
      ],
      "execution_count": 11,
      "outputs": [
        {
          "output_type": "stream",
          "text": [
            "[1, 1, 2, 3, 5, 8, 13, 21, 34, 55]\n"
          ],
          "name": "stdout"
        }
      ]
    },
    {
      "cell_type": "code",
      "metadata": {
        "id": "AIRsV3TVpeEU"
      },
      "source": [
        ""
      ],
      "execution_count": null,
      "outputs": []
    }
  ]
}