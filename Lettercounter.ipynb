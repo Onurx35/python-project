{
  "nbformat": 4,
  "nbformat_minor": 0,
  "metadata": {
    "colab": {
      "name": "Lettercounter.ipynb",
      "provenance": [],
      "authorship_tag": "ABX9TyPgK8aPy1yZFSeIDtN/SsI/",
      "include_colab_link": true
    },
    "kernelspec": {
      "name": "python3",
      "display_name": "Python 3"
    },
    "language_info": {
      "name": "python"
    }
  },
  "cells": [
    {
      "cell_type": "markdown",
      "metadata": {
        "id": "view-in-github",
        "colab_type": "text"
      },
      "source": [
        "<a href=\"https://colab.research.google.com/github/Onurx35/python-project/blob/main/Lettercounter.ipynb\" target=\"_parent\"><img src=\"https://colab.research.google.com/assets/colab-badge.svg\" alt=\"Open In Colab\"/></a>"
      ]
    },
    {
      "cell_type": "code",
      "metadata": {
        "id": "ct4qjUMF2cKK"
      },
      "source": [
        "sent = input('Enter a sentence: ')\n",
        "a = set(sent)\n",
        "sozluk = {}\n",
        "for i in a:\n",
        "  sent.count(i)\n",
        "  sozluk[i] = sent.count(i)\n",
        "print(sozluk)"
      ],
      "execution_count": null,
      "outputs": []
    }
  ]
}