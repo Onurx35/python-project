{
  "nbformat": 4,
  "nbformat_minor": 0,
  "metadata": {
    "colab": {
      "name": "simpleex.py",
      "provenance": [],
      "authorship_tag": "ABX9TyMgVYIXCQhKzL7++W8n98gZ",
      "include_colab_link": true
    },
    "kernelspec": {
      "name": "python3",
      "display_name": "Python 3"
    },
    "language_info": {
      "name": "python"
    }
  },
  "cells": [
    {
      "cell_type": "markdown",
      "metadata": {
        "id": "view-in-github",
        "colab_type": "text"
      },
      "source": [
        "<a href=\"https://colab.research.google.com/github/Onurx35/python-project/blob/main/simpleex_py.ipynb\" target=\"_parent\"><img src=\"https://colab.research.google.com/assets/colab-badge.svg\" alt=\"Open In Colab\"/></a>"
      ]
    },
    {
      "cell_type": "code",
      "metadata": {
        "id": "nBDFt3urr4cp"
      },
      "source": [
        "saved_amount = int(input('Please enter your saved amount: '))\n",
        "ps4_price = 1400\n",
        "if saved_amount <= ps4_price/2:\n",
        "  print(\"You must save more, keep saving!\")\n",
        "if saved_amount > ps4_price:\n",
        "      print(\"Yippee! You can buy your PS4\")\n",
        "elif saved_amount >= ps4_price/2:\n",
        "  print(\"You saved more than half, keep saving!\")\n"
      ],
      "execution_count": null,
      "outputs": []
    },
    {
      "cell_type": "code",
      "metadata": {
        "id": "mzOuEvbpr_VZ"
      },
      "source": [
        "math_mark = int(input('Please enter the mark: '))\n",
        "if 100 >= math_mark >= 85:\n",
        "  print(\"A(Excellent)\")\n",
        "elif 84 >= math_mark >= 70:\n",
        "  print(\"B(Good)\")\n",
        "elif 69 >= math_mark >= 60:\n",
        "  print(\"C(Medium)\")\n",
        "elif 59 >= math_mark >= 45:\n",
        "  print(\"D(Not Bad)\")\n",
        "elif 44 >= math_mark >= 0:\n",
        "  print(\"F(Failed)\")\n"
      ],
      "execution_count": null,
      "outputs": []
    },
    {
      "cell_type": "code",
      "metadata": {
        "id": "V2ajAhn2sEnL"
      },
      "source": [
        "number = int(input('Please enter a number: '))\n",
        "i = 0\n",
        "while i < number:\n",
        "  print(i**2)\n",
        "  i += 1"
      ],
      "execution_count": null,
      "outputs": []
    },
    {
      "cell_type": "code",
      "metadata": {
        "id": "jc7PEth8sHJl"
      },
      "source": [
        "sample_list = [{\"section\":5, \"topic\":2}, 'clarusway', [1, 4], 2020, 3.14, 1+618j, False, (10, 20)]\n",
        "for i in sample_list:\n",
        "  print(f\"the type of {i} is\", type(i))"
      ],
      "execution_count": null,
      "outputs": []
    }
  ]
}