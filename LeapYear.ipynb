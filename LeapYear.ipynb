{
  "nbformat": 4,
  "nbformat_minor": 0,
  "metadata": {
    "colab": {
      "name": "LeapYear.ipynb",
      "provenance": [],
      "authorship_tag": "ABX9TyMZ1qOhcPRb3yJMY73obTzn",
      "include_colab_link": true
    },
    "kernelspec": {
      "name": "python3",
      "display_name": "Python 3"
    },
    "language_info": {
      "name": "python"
    }
  },
  "cells": [
    {
      "cell_type": "markdown",
      "metadata": {
        "id": "view-in-github",
        "colab_type": "text"
      },
      "source": [
        "<a href=\"https://colab.research.google.com/github/Onurx35/python-project/blob/main/LeapYear.ipynb\" target=\"_parent\"><img src=\"https://colab.research.google.com/assets/colab-badge.svg\" alt=\"Open In Colab\"/></a>"
      ]
    },
    {
      "cell_type": "code",
      "metadata": {
        "colab": {
          "base_uri": "https://localhost:8080/"
        },
        "id": "LvHXVNC0669Z",
        "outputId": "06ccd0f4-9250-458a-9f9c-11a294143d11"
      },
      "source": [
        "leap = int(input(\"enter a leap year: \"))\n",
        "condition = (leap%400 == 0) or (leap % 4 == 0 and leap%100 != 0 )\n",
        "if condition:\n",
        "  print(leap, \"is leap year\")\n",
        "else:\n",
        "  print(leap, \"is not leap year\")"
      ],
      "execution_count": 1,
      "outputs": [
        {
          "output_type": "stream",
          "text": [
            "enter a leap year: 2400\n",
            "2400 is leap year\n"
          ],
          "name": "stdout"
        }
      ]
    }
  ]
}