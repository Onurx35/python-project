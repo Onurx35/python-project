{
  "nbformat": 4,
  "nbformat_minor": 0,
  "metadata": {
    "colab": {
      "name": "Palindrome.ipynb",
      "provenance": [],
      "authorship_tag": "ABX9TyPLXkIQ/Kqgtp1Mh6vldHV6",
      "include_colab_link": true
    },
    "kernelspec": {
      "name": "python3",
      "display_name": "Python 3"
    },
    "language_info": {
      "name": "python"
    }
  },
  "cells": [
    {
      "cell_type": "markdown",
      "metadata": {
        "id": "view-in-github",
        "colab_type": "text"
      },
      "source": [
        "<a href=\"https://colab.research.google.com/github/Onurx35/python-project/blob/main/Palindrome.ipynb\" target=\"_parent\"><img src=\"https://colab.research.google.com/assets/colab-badge.svg\" alt=\"Open In Colab\"/></a>"
      ]
    },
    {
      "cell_type": "code",
      "metadata": {
        "colab": {
          "base_uri": "https://localhost:8080/"
        },
        "id": "Ovp7lhAf6aSq",
        "outputId": "ca9634af-a7d5-4f60-9d59-81bc3bf44c1d"
      },
      "source": [
        "def is_palindrome(string):\n",
        "  return string [::-1].casefold() == string.casefold()\n",
        "\n",
        "def palindrome_sentence(sentence):\n",
        "  string = \"\"\n",
        "  for char in sentence:\n",
        "    if char.isalnum():\n",
        "      string += char\n",
        "  print(string)\n",
        "  return is_palindrom(string)\n",
        "\n",
        "word = input(\"Alfanümerik bir kelime giriniz: \")\n",
        "if palindrome_sentence(word):\n",
        "  print(\"{} is a palindrome\".format(word))\n",
        "else:\n",
        "  print(\"{} is not a palindrome\".format(word))"
      ],
      "execution_count": 4,
      "outputs": [
        {
          "output_type": "stream",
          "text": [
            "Alfanümerik bir kelime giriniz: ey edip adanada pide ye\n",
            "eyedipadanadapideye\n",
            "ey edip adanada pide ye is a palindrome\n"
          ],
          "name": "stdout"
        }
      ]
    },
    {
      "cell_type": "code",
      "metadata": {
        "id": "uUMfjZPs9hs_"
      },
      "source": [
        ""
      ],
      "execution_count": null,
      "outputs": []
    }
  ]
}