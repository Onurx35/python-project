{
  "nbformat": 4,
  "nbformat_minor": 0,
  "metadata": {
    "colab": {
      "name": "FizzBuzz_number.ipynb",
      "provenance": [],
      "authorship_tag": "ABX9TyPJDVzjo7kzly7MhEpn1uq8",
      "include_colab_link": true
    },
    "kernelspec": {
      "name": "python3",
      "display_name": "Python 3"
    },
    "language_info": {
      "name": "python"
    }
  },
  "cells": [
    {
      "cell_type": "markdown",
      "metadata": {
        "id": "view-in-github",
        "colab_type": "text"
      },
      "source": [
        "<a href=\"https://colab.research.google.com/github/Onurx35/python-project/blob/main/FizzBuzz_number.ipynb\" target=\"_parent\"><img src=\"https://colab.research.google.com/assets/colab-badge.svg\" alt=\"Open In Colab\"/></a>"
      ]
    },
    {
      "cell_type": "code",
      "metadata": {
        "id": "EPi4vtqdbE9I"
      },
      "source": [
        "liste = []\n",
        "for i in range(1,101):\n",
        "\n",
        "  if i % 3 == 0 and i % 5 != 0:\n",
        "    liste.append(\"Fizz\")\n",
        "  elif i % 5 == 0 and i % 3 != 0:\n",
        "    liste.append(\"Buzz\")\n",
        "  elif i % 3 == 0 and i % 5 == 0:\n",
        "    liste.append(\"FizzBuzz\")\n",
        "  else:\n",
        "    liste.append(i)\n",
        "print(*liste, sep = \"\\n\")"
      ],
      "execution_count": null,
      "outputs": []
    }
  ]
}