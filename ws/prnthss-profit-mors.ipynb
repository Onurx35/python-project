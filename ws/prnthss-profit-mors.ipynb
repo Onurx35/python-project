{
  "nbformat": 4,
  "nbformat_minor": 0,
  "metadata": {
    "kernelspec": {
      "display_name": "Python 3",
      "language": "python",
      "name": "python3"
    },
    "language_info": {
      "codemirror_mode": {
        "name": "ipython",
        "version": 3
      },
      "file_extension": ".py",
      "mimetype": "text/x-python",
      "name": "python",
      "nbconvert_exporter": "python",
      "pygments_lexer": "ipython3",
      "version": "3.7.3"
    },
    "colab": {
      "name": "workshop-3(student).ipynb",
      "provenance": [],
      "include_colab_link": true
    }
  },
  "cells": [
    {
      "cell_type": "markdown",
      "metadata": {
        "id": "view-in-github",
        "colab_type": "text"
      },
      "source": [
        "<a href=\"https://colab.research.google.com/github/Onurx35/python-project/blob/main/ws/prnthss-profit-mors.ipynb\" target=\"_parent\"><img src=\"https://colab.research.google.com/assets/colab-badge.svg\" alt=\"Open In Colab\"/></a>"
      ]
    },
    {
      "cell_type": "markdown",
      "metadata": {
        "id": "TTP-5Yd3yAWf"
      },
      "source": [
        "<center><img src=\"https://github.com/aaron-clarusway/fullstack/blob/master/itf-logo.png?raw=true\"  alt=\"alt text\" width=\"200\"/></center>\n",
        "<br>\n",
        "<h1><p style=\"text-align: center; color:darkblue\">Python Basic & Plus</p><h1>\n",
        "<center><h1>Workshop - 3</h1></center>\n",
        "<p><img align=\"right\"\n",
        "  src=\"https://secure.meetupstatic.com/photos/event/3/1/b/9/600_488352729.jpeg\"  width=\"15px\"></p>\n",
        "<br>\n",
        "\n",
        "\n",
        "# Subject: Collections - Control Flow Statements - Functions"
      ]
    },
    {
      "cell_type": "markdown",
      "metadata": {
        "id": "2WOmQ4S2yAWr"
      },
      "source": [
        "## Coding Challenge -1 : Validate Combination of Brackets\n",
        "\n",
        "Purpose of the this coding challenge is to solve a combination problem using loops.\n",
        "\n",
        "### Learning Outcomes\n",
        "\n",
        "At the end of the this coding challenge, students will be able to;\n",
        "\n",
        "- understand the use of loops.\n",
        "- solve the advanced and complicated problems.\n",
        "- understand the importance of pattern recognition.\n",
        "- get a better understanding in manipulating lists or strings.\n",
        "\n",
        "### Problem Statement\n",
        "  \n",
        "- Write a function that given a string containing just the characters `(`, `)`, `{`, `}`, `[` and `]`, determines if the input string is valid or not by using following rules.\n",
        "\n",
        "- An input string is valid if:\n",
        "\n",
        "  - Open brackets must be closed by the same type of brackets.\n",
        "\n",
        "  - Open brackets must be closed in the correct order.\n",
        "\n",
        "- Note that an empty string is also considered valid.\n",
        "\n",
        "- Example for user inputs and respective outputs\n",
        "\n",
        "```bash\n",
        "Input        Output\n",
        "--------:    ------:\n",
        "\"()\"         True\n",
        "\"()[]{}\"     True\n",
        "\"(]\"         False\n",
        "\"([)]\"       False\n",
        "\"{[]}\"       True\n",
        "\"\"           True\n",
        "```"
      ]
    },
    {
      "cell_type": "markdown",
      "metadata": {
        "id": "B5NgBnCbyAWs"
      },
      "source": [
        "### Solution :"
      ]
    },
    {
      "cell_type": "code",
      "metadata": {
        "id": "rJBXZ24hyAWt",
        "outputId": "755fa7df-4ea8-42c1-f21a-bf62dd67173d"
      },
      "source": [
        ""
      ],
      "execution_count": null,
      "outputs": [
        {
          "output_type": "stream",
          "text": [
            "Write a string that contains only `(`, `)`, `{`, `}`, `[` and `]`: ([[])}\n",
            "False\n"
          ],
          "name": "stdout"
        }
      ]
    },
    {
      "cell_type": "markdown",
      "metadata": {
        "id": "by8njQCKyAWu"
      },
      "source": [
        "## Coding Challenge - 2: Calculate Stock Profit\n",
        "\n",
        "The purpose of this coding challenge is to write a program that calculates maximum profit you could get from a stock.\n",
        "\n",
        "### Learning Outcomes\n",
        "\n",
        "At the end of this coding challenge, students will be able to;\n",
        "\n",
        "- analyze a problem, identify, and apply programming knowledge for appropriate solution.\n",
        "\n",
        "- design, implement `arithmetic operators` effectively in Python to solve the given problem.\n",
        "\n",
        "- demonstrate their knowledge of algorithmic design principles by solving the problem effectively.\n",
        "\n",
        "### Problem Statement\n",
        "\n",
        "Given an array of numbers representing the stock prices of a company in chronological order, write a function that calculates the maximum profit you could have made from buying and selling that stock once. Note that you must buy before you can sell it.\n",
        "\n",
        "For example, given ``[9, 11, 8, 5, 7, 10]``, you should return 5, since you could buy the stock at 5 dollars and sell it at 10 dollars.\n",
        "\n",
        "Example of different list of stock prices and respective outputs.\n",
        "\n",
        "```bash\n",
        "List = [75,73,60,100,120,130]\n",
        "Output = 70\n",
        "List = [10,20,23,22,17,30]\n",
        "Output = 20\n",
        "List = [1,6,19,59,30,60]\n",
        "Output = 59\n",
        "```"
      ]
    },
    {
      "cell_type": "markdown",
      "metadata": {
        "id": "5Q6G8vGwyAWv"
      },
      "source": [
        "### Solution-1 :"
      ]
    },
    {
      "cell_type": "code",
      "metadata": {
        "id": "VpmNQOogyAWv"
      },
      "source": [
        ""
      ],
      "execution_count": null,
      "outputs": []
    },
    {
      "cell_type": "code",
      "metadata": {
        "id": "jUHFP4P2yAWv",
        "outputId": "eee68689-6825-48e1-b41b-71543343569a"
      },
      "source": [
        "buy_and_sell([1,45,6,78,9])"
      ],
      "execution_count": null,
      "outputs": [
        {
          "output_type": "execute_result",
          "data": {
            "text/plain": [
              "77"
            ]
          },
          "metadata": {
            "tags": []
          },
          "execution_count": 7
        }
      ]
    },
    {
      "cell_type": "markdown",
      "metadata": {
        "id": "d_4dau4TyAWw"
      },
      "source": [
        "### Solution-2 :"
      ]
    },
    {
      "cell_type": "code",
      "metadata": {
        "id": "iQPvIFx1yAWw"
      },
      "source": [
        ""
      ],
      "execution_count": null,
      "outputs": []
    },
    {
      "cell_type": "code",
      "metadata": {
        "id": "HYficEEayAWw",
        "outputId": "404741ca-0bcd-4976-9ca8-1ecfcdde857f"
      },
      "source": [
        "buy_and_sell([22,33,44,55,66])"
      ],
      "execution_count": null,
      "outputs": [
        {
          "output_type": "execute_result",
          "data": {
            "text/plain": [
              "44"
            ]
          },
          "metadata": {
            "tags": []
          },
          "execution_count": 9
        }
      ]
    },
    {
      "cell_type": "markdown",
      "metadata": {
        "id": "KftXbOSsyAWx"
      },
      "source": [
        "## Coding Challenge - 3: Morse Translator\n",
        "\n",
        "The purpose of this coding challenge is to write a program that translates the plain text to morse code.\n",
        "\n",
        "### Learning Outcomes\n",
        "\n",
        "At the end of this coding challenge, students will be able to;\n",
        "\n",
        "- Analyze a problem, identify, and apply programming knowledge for an appropriate solution.\n",
        "\n",
        "- Implement loops to solve a problem.\n",
        "\n",
        "- Make use of dictionary data structure to map values. \n",
        "\n",
        "- Demonstrate their knowledge of algorithmic design principles by solving the problem effectively.\n",
        "\n",
        "### Problem Statement\n",
        "\n",
        "Write a function that takes in a plain text as input and converts it into morse alphabet. Following alphabet can be used:\n",
        "\n",
        "```bash\n",
        "{\n",
        "  'A': '.-', 'B': '-...', 'C': '-.-.', 'D': '-..', 'E': '.', 'F': '..-.',\n",
        "  'G': '--.', 'H': '....', 'I': '..', 'J': '.---', 'K': '-.-', 'L': '.-..',\n",
        "  'M': '--', 'N': '-.', 'O': '---', 'P': '.--.', 'Q': '--.-', 'R': '.-.',\n",
        "  'S': '...', 'T': '-', 'U': '..-', 'V': '...-', 'W': '.--', 'X': '-..-',\n",
        "  'Y': '-.--', 'Z': '--..', ' ': ' ', '0': '-----',\n",
        "  '1': '.----', '2': '..---', '3': '...--', '4': '....-', '5': '.....',\n",
        "  '6': '-....', '7': '--...', '8': '---..', '9': '----.',\n",
        "  '&': '.-...', \"'\": '.----.', '@': '.--.-.', ')': '-.--.-', '(': '-.--.',\n",
        "  ':': '---...', ',': '--..--', '=': '-...-', '!': '-.-.--', '.': '.-.-.-',\n",
        "  '-': '-....-', '+': '.-.-.', '\"': '.-..-.', '?': '..--..', '/': '-..-.'\n",
        "}\n",
        "```\n",
        "- Expected Outputs:\n",
        "\n",
        "```bash\n",
        "Input: Hello world!\n",
        "\n",
        "Output:\n",
        ".... . .-.. .-.. ---   .-- --- .-. .-.. -.. -.-.--\n",
        "\n",
        "Input: Good job!\n",
        "\n",
        "Output: --. --- --- -..   .--- --- -... -.-.--\n",
        "```"
      ]
    },
    {
      "cell_type": "markdown",
      "metadata": {
        "id": "pZyxukckyAWx"
      },
      "source": [
        "### Solution :"
      ]
    },
    {
      "cell_type": "code",
      "metadata": {
        "id": "w8qtAfppyAWy",
        "outputId": "b340ddde-f7d7-480d-c977-7c269bc72338"
      },
      "source": [
        "encode_morse(\"clarusway\")"
      ],
      "execution_count": null,
      "outputs": [
        {
          "output_type": "execute_result",
          "data": {
            "text/plain": [
              "'-.-. .-.. .- .-. ..- ... .-- .- -.--'"
            ]
          },
          "metadata": {
            "tags": []
          },
          "execution_count": 5
        }
      ]
    },
    {
      "cell_type": "code",
      "metadata": {
        "id": "DKnZDjJcyDfd"
      },
      "source": [
        "strin = input(\"Write a string that contains only `(`, `)`, `{`, `}`, `[` and `]`:   \")\n",
        "a = {\"{\" : \"}\", \"[\" : \"]\", \"(\" : \")\"}\n",
        "print(a)\n",
        "b = []\n",
        "k = 0\n",
        "for i in strin :\n",
        "  b.append(i)\n",
        "print(b)\n",
        "for i in range(len(strin)):\n",
        "  for i in b :\n",
        "    if i != \"}\" and i != \"]\" and  i != \")\" :\n",
        "      if a[i] in b:\n",
        "        k = b.index(a[i])\n",
        "      if b.index(i) == k-1 :\n",
        "        b.pop(b.index(i))\n",
        "        b.pop(k-1)\n",
        "print(b)\n",
        "if len(b) == 0 :\n",
        "  print(\"True\")\n",
        "else :\n",
        "  print(\"False\")"
      ],
      "execution_count": null,
      "outputs": []
    },
    {
      "cell_type": "code",
      "metadata": {
        "id": "AsHohkZLyDzU"
      },
      "source": [
        "def stock_max_profit(liste):\n",
        "  #liste = [10,20,23,22,17,30]\n",
        "  buy = min(liste)\n",
        "  sell = max(liste[liste.index(buy)::])\n",
        "  max_profit= sell - buy\n",
        "  return max_profit"
      ],
      "execution_count": null,
      "outputs": []
    },
    {
      "cell_type": "code",
      "metadata": {
        "id": "27uGjqh-yD7o"
      },
      "source": [
        "girdi= \"CLARUSWAY\"\n",
        "b=[]\n",
        "a=\"\"\n",
        "mors={\n",
        "  'A': '.-', 'B': '-...', 'C': '-.-.', 'D': '-..', 'E': '.', 'F': '..-.',\n",
        "  'G': '--.', 'H': '....', 'I': '..', 'J': '.---', 'K': '-.-', 'L': '.-..',\n",
        "  'M': '--', 'N': '-.', 'O': '---', 'P': '.--.', 'Q': '--.-', 'R': '.-.',\n",
        "  'S': '...', 'T': '-', 'U': '..-', 'V': '...-', 'W': '.--', 'X': '-..-',\n",
        "  'Y': '-.--', 'Z': '--..', ' ': ' ', '0': '-----',\n",
        "  '1': '.----', '2': '..---', '3': '...--', '4': '....-', '5': '.....',\n",
        "  '6': '-....', '7': '--...', '8': '---..', '9': '----.',\n",
        "  '&': '.-...', \"'\": '.----.', '@': '.--.-.', ')': '-.--.-', '(': '-.--.',\n",
        "  ':': '---...', ',': '--..--', '=': '-...-', '!': '-.-.--', '.': '.-.-.-',\n",
        "  '-': '-....-', '+': '.-.-.', '\"': '.-..-.', '?': '..--..', '/': '-..-.'\n",
        "}\n",
        "for i in girdi:\n",
        "  b.append(mors[i])\n",
        "g = ' '.join([str(z) for z in b])\n",
        "print(g)"
      ],
      "execution_count": null,
      "outputs": []
    },
    {
      "cell_type": "code",
      "metadata": {
        "id": "EjUkcJSfyXUt"
      },
      "source": [
        "def encode_morse(text):\n",
        "  morse_code = \"\"\n",
        "  for word in text.upper().split():\n",
        "    for i in word:\n",
        "      if i in morse:\n",
        "        morse_code += morse[i]+\"   \"\n",
        "  return morse_code"
      ],
      "execution_count": null,
      "outputs": []
    }
  ]
}