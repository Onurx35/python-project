{
  "nbformat": 4,
  "nbformat_minor": 0,
  "metadata": {
    "colab": {
      "name": "Permutation.ipynb",
      "provenance": [],
      "authorship_tag": "ABX9TyNGX4yUU1yVS4KSb0xZWWT/",
      "include_colab_link": true
    },
    "kernelspec": {
      "name": "python3",
      "display_name": "Python 3"
    },
    "language_info": {
      "name": "python"
    }
  },
  "cells": [
    {
      "cell_type": "markdown",
      "metadata": {
        "id": "view-in-github",
        "colab_type": "text"
      },
      "source": [
        "<a href=\"https://colab.research.google.com/github/Onurx35/python-project/blob/main/Permutation.ipynb\" target=\"_parent\"><img src=\"https://colab.research.google.com/assets/colab-badge.svg\" alt=\"Open In Colab\"/></a>"
      ]
    },
    {
      "cell_type": "code",
      "metadata": {
        "colab": {
          "base_uri": "https://localhost:8080/"
        },
        "id": "VzrLaPesKuyD",
        "outputId": "a2a2d123-32c2-426d-bd76-417742949945"
      },
      "source": [
        "# inpur [1,2,3]\n",
        "# output[\n",
        "#          [1,2,3]\n",
        "#          [1,3,2]\n",
        "#          [2,1,3]\n",
        "#          [2,3,1]\n",
        "#          [3,1,2]\n",
        "#         [3,2,1]\n",
        "#        ]\n",
        "# solution-1 = [[1], [2], [3]]\n",
        "#solution-2 = [[1,2], [1,3], [2,3]]\n",
        "#solution-3 = [[1,2,3], [1,3,2], [2,1,3], [2,3,1], [3,1,2], [3,2,1]]\n",
        "solution = [[]]\n",
        "\n",
        "for i in [[]] :\n",
        "  print (i)\n",
        "num = [1,2,3]\n",
        "num_set = set(num)\n",
        "\n",
        "for index in range(len(num)) :\n",
        "  solution = [i + [j] for i in solution for j in num_set.difference(set(i))]\n",
        "  print(solution)\n",
        "solution"
      ],
      "execution_count": 11,
      "outputs": [
        {
          "output_type": "stream",
          "text": [
            "[]\n",
            "[[1], [2], [3]]\n",
            "[[1, 2], [1, 3], [2, 1], [2, 3], [3, 1], [3, 2]]\n",
            "[[1, 2, 3], [1, 3, 2], [2, 1, 3], [2, 3, 1], [3, 1, 2], [3, 2, 1]]\n"
          ],
          "name": "stdout"
        },
        {
          "output_type": "execute_result",
          "data": {
            "text/plain": [
              "[[1, 2, 3], [1, 3, 2], [2, 1, 3], [2, 3, 1], [3, 1, 2], [3, 2, 1]]"
            ]
          },
          "metadata": {
            "tags": []
          },
          "execution_count": 11
        }
      ]
    }
  ]
}